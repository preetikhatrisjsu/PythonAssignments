{
 "cells": [
  {
   "cell_type": "code",
   "execution_count": null,
   "metadata": {},
   "outputs": [],
   "source": [
    "var1 = 'hello', var2 = 2, var3 = 1.1"
   ]
  },
  {
   "cell_type": "markdown",
   "metadata": {},
   "source": [
    " # 2. Create a variable of type complex and swap it with another variable of type integer."
   ]
  },
  {
   "cell_type": "code",
   "execution_count": 2,
   "metadata": {},
   "outputs": [
    {
     "name": "stdout",
     "output_type": "stream",
     "text": [
      "Complex Number: 5\n",
      "Integer Number: (3+4j)\n"
     ]
    }
   ],
   "source": [
    "complex_num = 3 + 4j\n",
    "integer_num = 5\n",
    "\n",
    "temp = integer_num\n",
    "integer_num = complex_num\n",
    "complex_num = temp\n",
    "\n",
    "print(complex_num)\n",
    "print(integer_num)"
   ]
  },
  {
   "cell_type": "markdown",
   "metadata": {},
   "source": [
    " # 3. Swap two numbers using a third variable and do the same task without using any third variable."
   ]
  },
  {
   "cell_type": "code",
   "execution_count": 4,
   "metadata": {},
   "outputs": [
    {
     "name": "stdout",
     "output_type": "stream",
     "text": [
      "2\n",
      "1\n"
     ]
    }
   ],
   "source": [
    "#Swap two numbers using a third variable\n",
    "var1 = 1\n",
    "var2 = 2\n",
    "\n",
    "temp = var1\n",
    "var1 = var2\n",
    "var2 = temp\n",
    "\n",
    "print (var1)\n",
    "print (var2)"
   ]
  },
  {
   "cell_type": "code",
   "execution_count": 3,
   "metadata": {},
   "outputs": [
    {
     "name": "stdout",
     "output_type": "stream",
     "text": [
      "2\n",
      "1\n"
     ]
    }
   ],
   "source": [
    "#Swap two numbers without using a third variable\n",
    "var1 = 1\n",
    "var2 = 2\n",
    "\n",
    "var1 = var1 + var2\n",
    "var2 = var1 - var2\n",
    "var1 = var1 - var2\n",
    "\n",
    "print(var1)\n",
    "print(var2)"
   ]
  },
  {
   "cell_type": "markdown",
   "metadata": {},
   "source": [
    " # 4. Write a program that takes input from the user and prints it using both Python 2.x and Python 3.x Version."
   ]
  },
  {
   "cell_type": "code",
   "execution_count": 7,
   "metadata": {},
   "outputs": [
    {
     "name": "stdin",
     "output_type": "stream",
     "text": [
      "Enter your input -  hello\n"
     ]
    },
    {
     "name": "stdout",
     "output_type": "stream",
     "text": [
      "hello\n"
     ]
    }
   ],
   "source": [
    "user_input = input(\"Enter your input - \")\n",
    "\n",
    "print(user_input)"
   ]
  },
  {
   "cell_type": "markdown",
   "metadata": {},
   "source": [
    " # 5. Ask users to enter any 2 numbers in between 1-10 , add the two numbers and keep the sum in another variable called z. Add 30 to z and store the output in variable result and print result as the final output."
   ]
  },
  {
   "cell_type": "code",
   "execution_count": 6,
   "metadata": {},
   "outputs": [
    {
     "name": "stdin",
     "output_type": "stream",
     "text": [
      "Enter a number between 1-10 -  3\n",
      "Enter second number between 1-10 -  4\n"
     ]
    },
    {
     "name": "stdout",
     "output_type": "stream",
     "text": [
      "37\n"
     ]
    }
   ],
   "source": [
    "var1 = int(input(\"Enter a number between 1-10 - \"))\n",
    "var2 = int(input(\"Enter second number between 1-10 - \"))\n",
    "\n",
    "z = var1 + var2\n",
    "result = z + 30\n",
    "\n",
    "print(result)"
   ]
  },
  {
   "cell_type": "markdown",
   "metadata": {},
   "source": [
    " # 6. Write a program to check the data type of the entered values."
   ]
  },
  {
   "cell_type": "code",
   "execution_count": 8,
   "metadata": {},
   "outputs": [
    {
     "name": "stdin",
     "output_type": "stream",
     "text": [
      "Enter a value -  hello\n"
     ]
    },
    {
     "name": "stdout",
     "output_type": "stream",
     "text": [
      "The data type of the input value is String.\n"
     ]
    }
   ],
   "source": [
    "user_input = input(\"Enter a value - \")\n",
    "\n",
    "if type(user_input) == int:\n",
    "    print(\"The data type of the input value is Integer.\")\n",
    "elif type(user_input) == float:\n",
    "    print(\"The data type of the input value is Float.\")\n",
    "elif type(user_input) == str:\n",
    "    print(\"The data type of the input value is String.\")\n",
    "else:\n",
    "    print(\"unknown.\")"
   ]
  },
  {
   "cell_type": "markdown",
   "metadata": {},
   "source": [
    " # 7. Create Variables using formats such as Upper CamelCase, Lower CamelCase, SnakeCase and UPPERCASE."
   ]
  },
  {
   "cell_type": "code",
   "execution_count": 9,
   "metadata": {},
   "outputs": [],
   "source": [
    "UpperCamelCase = \"Upper Camel Case\"\n",
    "\n",
    "lowerCamelCase = \"Lower Camel Case\"\n",
    "\n",
    "snake_case = \"Snake Case\"\n",
    "\n",
    "UPPERCASE = \"UPPERCASE\""
   ]
  },
  {
   "cell_type": "markdown",
   "metadata": {},
   "source": [
    " # 8. If one data type value is assigned to ‘a’ variable and then a different data type value is assigned to ‘a’ again. Will it change the value? If Yes then Why?"
   ]
  },
  {
   "cell_type": "code",
   "execution_count": null,
   "metadata": {},
   "outputs": [],
   "source": [
    "Yes, if a different data type value is assigned to a variable that has already been assigned a value, the value will change. \n",
    "This is because in Python, variables are dynamically typed, which means that their type can change at runtime. "
   ]
  },
  {
   "cell_type": "markdown",
   "metadata": {},
   "source": [
    " # 9. If a number is divisible by 3 it should print “Consultadd” as a string\n",
    " # If a number is divisible by 5 it should print “Python Training” as a string\n",
    " # If a number is divisible by both 3 and 5 it should print “Consultadd - Python Training” as a string."
   ]
  },
  {
   "cell_type": "code",
   "execution_count": 10,
   "metadata": {},
   "outputs": [
    {
     "name": "stdin",
     "output_type": "stream",
     "text": [
      "Enter a number -  3\n"
     ]
    },
    {
     "name": "stdout",
     "output_type": "stream",
     "text": [
      "Consultadd\n"
     ]
    }
   ],
   "source": [
    "num = int(input(\"Enter a number - \"))\n",
    "\n",
    "if num % 3 == 0:\n",
    "    print(\"Consultadd\")\n",
    "elif num % 5 == 0:\n",
    "    print(\"Python Training\")\n",
    "elif num % 3 == 0 and num % 5 == 0:\n",
    "    print(\"Consultadd - Python Training\")\n",
    "else:\n",
    "    print(\"The number is not divisible by 3 or 5.\")"
   ]
  },
  {
   "cell_type": "markdown",
   "metadata": {},
   "source": [
    " # 10. "
   ]
  },
  {
   "cell_type": "code",
   "execution_count": 14,
   "metadata": {},
   "outputs": [
    {
     "name": "stdin",
     "output_type": "stream",
     "text": [
      "Enter your choice (1-5):  2\n",
      "Enter first number:  3\n",
      "Enter second number:  4\n"
     ]
    },
    {
     "name": "stdout",
     "output_type": "stream",
     "text": [
      "NEGATIVE\n"
     ]
    }
   ],
   "source": [
    "choice = int(input(\"Enter your choice (1-5): \"))\n",
    "result = 0\n",
    "\n",
    "if choice == 1:\n",
    "   \n",
    "    num1 = int(input(\"Enter first number: \"))\n",
    "    num2 = int(input(\"Enter second number: \"))\n",
    "    \n",
    "    result = num1 + num2\n",
    "\n",
    "elif choice == 2:\n",
    "    \n",
    "    num1 = int(input(\"Enter first number: \"))\n",
    "    num2 = int(input(\"Enter second number: \"))\n",
    "   \n",
    "    result = num1 - num2\n",
    "\n",
    "elif choice == 3:\n",
    "\n",
    "    num1 = int(input(\"Enter first number: \"))\n",
    "    num2 = int(input(\"Enter second number: \"))\n",
    "\n",
    "    result = num1 / num2\n",
    "\n",
    "elif choice == 4:\n",
    "\n",
    "    num1 = int(input(\"Enter first number: \"))\n",
    "    num2 = int(input(\"Enter second number: \"))\n",
    "\n",
    "    result = num1 * num2\n",
    "\n",
    "elif choice == 5:\n",
    "\n",
    "    first = int(input(\"Enter first number: \"))\n",
    "    second = int(input(\"Enter second number: \"))\n",
    "    \n",
    "    result = (first + second) / 2 \n",
    "\n",
    "else:\n",
    "    \n",
    "    print(\"Invalid choice. Please enter a number between 1 and 5.\")\n",
    "    \n",
    "if result < 0:\n",
    "        print(\"NEGATIVE\")\n",
    "else:\n",
    "        print(result)"
   ]
  },
  {
   "cell_type": "markdown",
   "metadata": {},
   "source": [
    " # 11 "
   ]
  },
  {
   "cell_type": "code",
   "execution_count": null,
   "metadata": {},
   "outputs": [],
   "source": []
  },
  {
   "cell_type": "markdown",
   "metadata": {},
   "source": [
    " # 12 If user enters a negative number just break the loop and print “It’s Over”\n",
    " # If user enters a positive number just continue in the loop and print “Good Going”"
   ]
  },
  {
   "cell_type": "code",
   "execution_count": 15,
   "metadata": {},
   "outputs": [
    {
     "name": "stdin",
     "output_type": "stream",
     "text": [
      "Enter a number:  -1\n"
     ]
    },
    {
     "name": "stdout",
     "output_type": "stream",
     "text": [
      "It's Over\n"
     ]
    }
   ],
   "source": [
    "while True:\n",
    "    num = int(input(\"Enter a number: \"))\n",
    "    if num < 0:\n",
    "        print(\"It's Over\")\n",
    "        break\n",
    "    else:\n",
    "        print(\"Good Going\")"
   ]
  },
  {
   "cell_type": "markdown",
   "metadata": {},
   "source": [
    " # 13 Write a program in Python which will find all such numbers which are divisible by 7 but are not a multiple of 5, between 2000 and 3200."
   ]
  },
  {
   "cell_type": "code",
   "execution_count": 16,
   "metadata": {},
   "outputs": [
    {
     "name": "stdout",
     "output_type": "stream",
     "text": [
      "2002,2009,2016,2023,2037,2044,2051,2058,2072,2079,2086,2093,2107,2114,2121,2128,2142,2149,2156,2163,2177,2184,2191,2198,2212,2219,2226,2233,2247,2254,2261,2268,2282,2289,2296,2303,2317,2324,2331,2338,2352,2359,2366,2373,2387,2394,2401,2408,2422,2429,2436,2443,2457,2464,2471,2478,2492,2499,2506,2513,2527,2534,2541,2548,2562,2569,2576,2583,2597,2604,2611,2618,2632,2639,2646,2653,2667,2674,2681,2688,2702,2709,2716,2723,2737,2744,2751,2758,2772,2779,2786,2793,2807,2814,2821,2828,2842,2849,2856,2863,2877,2884,2891,2898,2912,2919,2926,2933,2947,2954,2961,2968,2982,2989,2996,3003,3017,3024,3031,3038,3052,3059,3066,3073,3087,3094,3101,3108,3122,3129,3136,3143,3157,3164,3171,3178,3192,3199\n"
     ]
    }
   ],
   "source": [
    "result = []\n",
    "for i in range(2000, 3201):\n",
    "    if i % 7 == 0 and i % 5 != 0:\n",
    "        result.append(str(i))\n",
    "print(','.join(result))"
   ]
  },
  {
   "cell_type": "markdown",
   "metadata": {},
   "source": [
    " # 14"
   ]
  },
  {
   "cell_type": "code",
   "execution_count": 18,
   "metadata": {},
   "outputs": [
    {
     "ename": "TypeError",
     "evalue": "'int' object is not iterable",
     "output_type": "error",
     "traceback": [
      "\u001b[0;31m---------------------------------------------------------------------------\u001b[0m",
      "\u001b[0;31mTypeError\u001b[0m                                 Traceback (most recent call last)",
      "\u001b[0;32m<ipython-input-18-c6b03482a0ac>\u001b[0m in \u001b[0;36m<module>\u001b[0;34m\u001b[0m\n\u001b[1;32m      1\u001b[0m \u001b[0mx\u001b[0m\u001b[0;34m=\u001b[0m\u001b[0;36m123\u001b[0m\u001b[0;34m\u001b[0m\u001b[0;34m\u001b[0m\u001b[0m\n\u001b[1;32m      2\u001b[0m \u001b[0;34m\u001b[0m\u001b[0m\n\u001b[0;32m----> 3\u001b[0;31m \u001b[0;32mfor\u001b[0m \u001b[0mi\u001b[0m \u001b[0;32min\u001b[0m \u001b[0mx\u001b[0m\u001b[0;34m:\u001b[0m\u001b[0;34m\u001b[0m\u001b[0;34m\u001b[0m\u001b[0m\n\u001b[0m\u001b[1;32m      4\u001b[0m     \u001b[0mprint\u001b[0m\u001b[0;34m(\u001b[0m\u001b[0mi\u001b[0m\u001b[0;34m)\u001b[0m\u001b[0;34m\u001b[0m\u001b[0;34m\u001b[0m\u001b[0m\n\u001b[1;32m      5\u001b[0m \u001b[0;34m\u001b[0m\u001b[0m\n",
      "\u001b[0;31mTypeError\u001b[0m: 'int' object is not iterable"
     ]
    }
   ],
   "source": [
    "x=123\n",
    "\n",
    "for i in x:\n",
    "    print(i)\n",
    "\n",
    "i = 0\n",
    "while i < 5:\n",
    "    print(i)\n",
    "    i += 1\n",
    "    if i == 3:\n",
    "        break\n",
    "    else:\n",
    "        print(\"error\")\n",
    "\n",
    "count = 0\n",
    "while True:\n",
    "    print(count)\n",
    "    count += 1\n",
    "    if count >= 5:\n",
    "        Break"
   ]
  },
  {
   "cell_type": "markdown",
   "metadata": {},
   "source": [
    "# 15 Write a program that prints all the numbers from 0 to 6 except 3 and 6."
   ]
  },
  {
   "cell_type": "code",
   "execution_count": 25,
   "metadata": {},
   "outputs": [
    {
     "name": "stdout",
     "output_type": "stream",
     "text": [
      "0\n",
      "1\n",
      "2\n",
      "4\n",
      "5\n",
      "\n"
     ]
    }
   ],
   "source": [
    "for i in range(0, 7):\n",
    "    if i == 3 or i == 6:\n",
    "        continue\n",
    "    print(i)\n",
    "print()"
   ]
  },
  {
   "cell_type": "markdown",
   "metadata": {},
   "source": [
    " # 16 Write a program that accepts a string as an input from the user and calculate the number of digits and letters."
   ]
  },
  {
   "cell_type": "code",
   "execution_count": 27,
   "metadata": {},
   "outputs": [
    {
     "name": "stdout",
     "output_type": "stream",
     "text": [
      "Letters -  6\n",
      "Digits -  2\n"
     ]
    }
   ],
   "source": [
    "input_string = \"consul72\"\n",
    "\n",
    "digits = 0\n",
    "letters = 0\n",
    "\n",
    "for c in input_string:\n",
    "    if c.isdigit():\n",
    "        digits += 1\n",
    "    elif c.isalpha():\n",
    "        letters += 1\n",
    "\n",
    "print(\"Letters - \", letters)\n",
    "print(\"Digits - \", digits)"
   ]
  },
  {
   "cell_type": "markdown",
   "metadata": {},
   "source": [
    " # 17 Write a program such that it asks users to “guess the lucky number”. If the correct number is guessed the program stops, otherwise it continues forever."
   ]
  },
  {
   "cell_type": "code",
   "execution_count": 28,
   "metadata": {},
   "outputs": [
    {
     "name": "stdin",
     "output_type": "stream",
     "text": [
      "guess the lucky number:  7\n"
     ]
    },
    {
     "name": "stdout",
     "output_type": "stream",
     "text": [
      "Try again.\n"
     ]
    },
    {
     "name": "stdin",
     "output_type": "stream",
     "text": [
      "guess the lucky number:  5\n"
     ]
    },
    {
     "name": "stdout",
     "output_type": "stream",
     "text": [
      "You are lucky!\n"
     ]
    }
   ],
   "source": [
    "luckyNumber = 5\n",
    "\n",
    "while True:\n",
    "    Numguess = int(input(\"guess the lucky number: \"))\n",
    "    \n",
    "    if Numguess == luckyNumber:\n",
    "        print(\"You are lucky!\")\n",
    "        break\n",
    "    else:\n",
    "        print(\"Try again.\")"
   ]
  },
  {
   "cell_type": "code",
   "execution_count": 29,
   "metadata": {},
   "outputs": [
    {
     "name": "stdin",
     "output_type": "stream",
     "text": [
      "guess the lucky number:  5\n",
      "Do you want to guess again?  yes\n",
      "guess the lucky number:  6\n",
      "Do you want to guess again?  no\n"
     ]
    }
   ],
   "source": [
    "luckyNumber = 7\n",
    "\n",
    "while True:\n",
    "    Numguess = int(input(\"guess the lucky number: \"))\n",
    "    \n",
    "    if Numguess == luckyNumber:\n",
    "        print(\"You are lucky!\")\n",
    "        break\n",
    "    answer = input(\"Do you want to guess again? \")\n",
    "    if answer == \"no\":\n",
    "        break"
   ]
  },
  {
   "cell_type": "markdown",
   "metadata": {},
   "source": [
    "# 18 Write a program that asks five times to guess the lucky number. Use a while loop and a counter"
   ]
  },
  {
   "cell_type": "code",
   "execution_count": 36,
   "metadata": {},
   "outputs": [
    {
     "name": "stdin",
     "output_type": "stream",
     "text": [
      "guess your lucky number:  5\n",
      "guess your lucky number:  2\n",
      "guess your lucky number:  3\n",
      "guess your lucky number:  4\n",
      "guess your lucky number:  6\n"
     ]
    },
    {
     "name": "stdout",
     "output_type": "stream",
     "text": [
      "Good guess!\n"
     ]
    }
   ],
   "source": [
    "luckyNumber = 5\n",
    "\n",
    "guess_count = 0\n",
    "\n",
    "temp = []\n",
    "\n",
    "while guess_count < 5:\n",
    "    guess = int(input(\"guess your lucky number: \"))\n",
    "    guess_count += 1\n",
    "    temp.append(guess)\n",
    "\n",
    "winCounter = 0\n",
    "for i in temp:\n",
    "    if i == luckyNumber:\n",
    "        winCounter = 1\n",
    "        print(\"Good guess!\")\n",
    "        break\n",
    "if winCounter == 0:\n",
    "    print(\"Game over!\")\n",
    "        "
   ]
  },
  {
   "cell_type": "code",
   "execution_count": null,
   "metadata": {},
   "outputs": [],
   "source": []
  }
 ],
 "metadata": {
  "kernelspec": {
   "display_name": "Python 3",
   "language": "python",
   "name": "python3"
  },
  "language_info": {
   "codemirror_mode": {
    "name": "ipython",
    "version": 3
   },
   "file_extension": ".py",
   "mimetype": "text/x-python",
   "name": "python",
   "nbconvert_exporter": "python",
   "pygments_lexer": "ipython3",
   "version": "3.7.6"
  }
 },
 "nbformat": 4,
 "nbformat_minor": 4
}
