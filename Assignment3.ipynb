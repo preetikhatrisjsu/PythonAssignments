{
 "cells": [
  {
   "cell_type": "markdown",
   "metadata": {},
   "source": [
    " # 1. Write a program in Python to allow the error of syntax to be handled using exception handling."
   ]
  },
  {
   "cell_type": "code",
   "execution_count": 27,
   "metadata": {},
   "outputs": [
    {
     "ename": "SyntaxError",
     "evalue": "EOL while scanning string literal (<ipython-input-27-8e02d856ec91>, line 3)",
     "output_type": "error",
     "traceback": [
      "\u001b[0;36m  File \u001b[0;32m\"<ipython-input-27-8e02d856ec91>\"\u001b[0;36m, line \u001b[0;32m3\u001b[0m\n\u001b[0;31m    print(\"Hello'\u001b[0m\n\u001b[0m                 ^\u001b[0m\n\u001b[0;31mSyntaxError\u001b[0m\u001b[0;31m:\u001b[0m EOL while scanning string literal\n"
     ]
    }
   ],
   "source": [
    "try:\n",
    "    # code with potential syntax errors\n",
    "    print(\"Hello'\n",
    "except SyntaxError as e:\n",
    "    # handle syntax error\n",
    "    print(e)"
   ]
  },
  {
   "cell_type": "markdown",
   "metadata": {},
   "source": [
    " # 2. Write a program to handle an error if the user entered a number more than four digits it should return “The length is too short/long !!! Please provide only four digits”"
   ]
  },
  {
   "cell_type": "code",
   "execution_count": 10,
   "metadata": {},
   "outputs": [
    {
     "name": "stdin",
     "output_type": "stream",
     "text": [
      "Enter four-digit number -  77777\n"
     ]
    },
    {
     "name": "stdout",
     "output_type": "stream",
     "text": [
      "Invalid input -  The length is incorrect. Please provide only four digits\n"
     ]
    }
   ],
   "source": [
    "number = input(\"Enter four-digit number - \")\n",
    "\n",
    "try:\n",
    "   \n",
    "    number_int = int(number)\n",
    "   \n",
    "    if len(number) != 4:\n",
    "        raise ValueError(\"The length is incorrect. Please provide only four digits\")\n",
    "    else:\n",
    "        print(\"Valid input - \", number_int)\n",
    "except ValueError as e:\n",
    "    \n",
    "    print(\"Invalid input - \", e)"
   ]
  },
  {
   "cell_type": "markdown",
   "metadata": {},
   "source": [
    " # 3. Create a login page backend to ask users to enter the username and password. Make sure to ask for a Re-Type Password and if the password is incorrect give chance to enter it again but it should not be more than 3 times."
   ]
  },
  {
   "cell_type": "code",
   "execution_count": 16,
   "metadata": {},
   "outputs": [
    {
     "name": "stdin",
     "output_type": "stream",
     "text": [
      "Enter the username:  y\n",
      "Enter the password:  y\n",
      "Invalid username or password. Re-enter again - Press Enter \n"
     ]
    },
    {
     "name": "stdout",
     "output_type": "stream",
     "text": [
      "Incorrect credentials.  2 attempts left.\n"
     ]
    },
    {
     "name": "stdin",
     "output_type": "stream",
     "text": [
      "Enter the username:  y\n",
      "Enter the password:  y\n",
      "Invalid username or password. Re-enter again - Press Enter \n"
     ]
    },
    {
     "name": "stdout",
     "output_type": "stream",
     "text": [
      "Incorrect credentials.  1 attempts left.\n"
     ]
    },
    {
     "name": "stdin",
     "output_type": "stream",
     "text": [
      "Enter the username:  yy\n",
      "Enter the password:  yy\n",
      "Invalid username or password. Re-enter again - Press Enter y\n"
     ]
    },
    {
     "name": "stdout",
     "output_type": "stream",
     "text": [
      "Incorrect credentials.  0 attempts left.\n",
      "Maximum attempts reached.\n"
     ]
    }
   ],
   "source": [
    "\n",
    "username = \"preet\"\n",
    "password = \"preet\"\n",
    "\n",
    "max_ampt = 3\n",
    "attempts = 0\n",
    "\n",
    "while attempts < max_ampt:\n",
    "\n",
    "    input_username = input(\"Enter the username: \")\n",
    "    input_password = input(\"Enter the password: \")\n",
    "    \n",
    "    if input_username == username and input_password == password:\n",
    "\n",
    "        print(\"Login successful\")\n",
    "        break\n",
    "    else:\n",
    "\n",
    "        confirm_password = input(\"Invalid username or password. Re-enter again - Press Enter\")\n",
    "        attempts += 1\n",
    "        if confirm_password != password:\n",
    "            \n",
    "            print(\"Incorrect credentials. \", max_ampt - attempts, \"attempts left.\")\n",
    "        else:\n",
    "          \n",
    "            print(\"Login successful!\")\n",
    "            break\n",
    "else:\n",
    "\n",
    "    print(\"Maximum attempts reached.\")\n"
   ]
  },
  {
   "cell_type": "markdown",
   "metadata": {},
   "source": [
    " # 6. Read doc.txt file using Python File handling concept and return only the even length string from the file. Consider the content of doc.txt as given below:"
   ]
  },
  {
   "cell_type": "code",
   "execution_count": 18,
   "metadata": {},
   "outputs": [
    {
     "name": "stdout",
     "output_type": "stream",
     "text": [
      "am file need to return data string is of even length Make sure return in same link as it is present.\n"
     ]
    }
   ],
   "source": [
    "with open(\"doc.txt\", \"r\") as file:\n",
    "\n",
    "    filedata = file.read()\n",
    "    words = filedata.split()\n",
    "    even_words = filter(lambda word: len(word) % 2 == 0, words)\n",
    "    \n",
    "    result = \" \".join(even_words)\n",
    "    print(result)\n"
   ]
  },
  {
   "cell_type": "markdown",
   "metadata": {},
   "source": [
    " # 7. Write a program in Python to find out the character in a string which is uppercase using list comprehension."
   ]
  },
  {
   "cell_type": "code",
   "execution_count": 20,
   "metadata": {},
   "outputs": [
    {
     "name": "stdout",
     "output_type": "stream",
     "text": [
      "['H', 'T', 'I', 'P', 'T']\n"
     ]
    }
   ],
   "source": [
    "input_string = \"Hello This Is PreeT\"\n",
    "uppercase_char = [char for char in input_string if char.isupper()]\n",
    "\n",
    "print(uppercase_char)"
   ]
  },
  {
   "cell_type": "markdown",
   "metadata": {},
   "source": [
    " # 8. Write a program to construct a dictionary from the two lists containing the names of students and their corresponding subjects. The dictionary should map the students with their respective subjects."
   ]
  },
  {
   "cell_type": "code",
   "execution_count": 22,
   "metadata": {},
   "outputs": [
    {
     "name": "stdout",
     "output_type": "stream",
     "text": [
      "{'Smith': 'CSE', 'Jaya': 'Networking', 'Rayyan': 'Operating System'}\n"
     ]
    }
   ],
   "source": [
    "students = [\"Smith\", \"Jaya\", \"Rayyan\"]\n",
    "subjects = [\"CSE\", \"Networking\", \"Operating System\"]\n",
    "\n",
    "student_subjects = {}\n",
    "\n",
    "for student, subject in zip(students, subjects):\n",
    "    student_subjects[student] = subject\n",
    "print(student_subjects)"
   ]
  },
  {
   "cell_type": "markdown",
   "metadata": {},
   "source": [
    " # 9. Write a program in Python using generators to reverse the string. Input String = “Consultadd Training”"
   ]
  },
  {
   "cell_type": "code",
   "execution_count": 26,
   "metadata": {},
   "outputs": [
    {
     "name": "stdout",
     "output_type": "stream",
     "text": [
      "gniiarT ddatlusnoC\n"
     ]
    }
   ],
   "source": [
    "def reverse_string(string):\n",
    "    len1 = len(string)\n",
    "    for i in range(len1 - 1, -1, -1):\n",
    "        yield string[i]\n",
    "\n",
    "input_string = \"Consultadd Traiing\"\n",
    "result = ''.join(reverse_string(input_string))\n",
    "\n",
    "print(result)\n"
   ]
  },
  {
   "cell_type": "code",
   "execution_count": null,
   "metadata": {},
   "outputs": [],
   "source": []
  }
 ],
 "metadata": {
  "kernelspec": {
   "display_name": "Python 3",
   "language": "python",
   "name": "python3"
  },
  "language_info": {
   "codemirror_mode": {
    "name": "ipython",
    "version": 3
   },
   "file_extension": ".py",
   "mimetype": "text/x-python",
   "name": "python",
   "nbconvert_exporter": "python",
   "pygments_lexer": "ipython3",
   "version": "3.7.6"
  }
 },
 "nbformat": 4,
 "nbformat_minor": 4
}
