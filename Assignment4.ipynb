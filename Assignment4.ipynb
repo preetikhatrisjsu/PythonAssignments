{
 "cells": [
  {
   "cell_type": "markdown",
   "metadata": {},
   "source": [
    " # 1. Write a program that calculates and prints the value according to the given formula:\n",
    "Q= Square root of [(2*C*D)/H]\n",
    "Following are the fixed values of C and H:\n",
    "C is 50.\n",
    "H is 30.\n",
    "D is a variable whose values should be input to your program in a comma-separated sequence."
   ]
  },
  {
   "cell_type": "code",
   "execution_count": 1,
   "metadata": {},
   "outputs": [
    {
     "name": "stdin",
     "output_type": "stream",
     "text": [
      "Enter values for comma seperated D -  3,5,6\n"
     ]
    },
    {
     "name": "stdout",
     "output_type": "stream",
     "text": [
      "For D = 3, Q = 3.16\n",
      "For D = 5, Q = 4.08\n",
      "For D = 6, Q = 4.47\n"
     ]
    }
   ],
   "source": [
    "import math\n",
    "\n",
    "C = 50\n",
    "H = 30\n",
    "\n",
    "DList = input(\"Enter values for comma seperated D - \").split(\",\")\n",
    "\n",
    "D = [int(d) for d in DList]\n",
    "\n",
    "for d in D:\n",
    "    Q = math.sqrt((2 * C * d) / H)\n",
    "    \n",
    "    print(\"D = {}, Q = {:.2f}\".format(d, Q))\n"
   ]
  },
  {
   "cell_type": "markdown",
   "metadata": {},
   "source": [
    " # 2. Define a class named Shape and its subclass Square. The Square class has an init function which\n",
    "takes length as argument. Both classes have an area function which can print the area of the shape\n",
    "where Shape’s area is 0 by default."
   ]
  },
  {
   "cell_type": "code",
   "execution_count": 3,
   "metadata": {},
   "outputs": [
    {
     "name": "stdout",
     "output_type": "stream",
     "text": [
      "Shape area: 0\n",
      "Square area: 4\n"
     ]
    }
   ],
   "source": [
    "class Shape:\n",
    "    def __init__(self):\n",
    "        pass\n",
    "    \n",
    "    def area(self):\n",
    "        return 0\n",
    "\n",
    "\n",
    "class Square(Shape):\n",
    "    def __init__(self, length):\n",
    "        self.length = length\n",
    "        \n",
    "    def area(self):\n",
    "        return self.length * self.length\n",
    "    \n",
    "shape = Shape()\n",
    "\n",
    "\n",
    "print(\"Shape area:\", shape.area())\n",
    "\n",
    "square = Square(2)\n",
    "\n",
    "print(\"Square area:\", square.area())\n"
   ]
  },
  {
   "cell_type": "markdown",
   "metadata": {},
   "source": [
    " # 3. Create a class to find three elements that sum to zero from a set of n real numbers"
   ]
  },
  {
   "cell_type": "code",
   "execution_count": 4,
   "metadata": {},
   "outputs": [
    {
     "name": "stdout",
     "output_type": "stream",
     "text": [
      "(-10, 2, 8)\n",
      "(-7, -3, 10)\n"
     ]
    }
   ],
   "source": [
    "class ThreeSumElement:\n",
    "    \n",
    "    def getthreeElement(self, arr):\n",
    "        n = len(arr)\n",
    "        triplets = []\n",
    "        \n",
    "        for i in range(n - 2):\n",
    "            for j in range(i + 1, n - 1):\n",
    "                for k in range(j + 1, n):\n",
    "                    if arr[i] + arr[j] + arr[k] == 0:\n",
    "                        triplets.append((arr[i], arr[j], arr[k]))\n",
    "        \n",
    "        return triplets\n",
    "    \n",
    "ts = ThreeSumElement()\n",
    "\n",
    "arrofnumbers = [-25,-10,-7,-3,2,4,8,10]\n",
    "triplets = ts.getthreeElement(arrofnumbers)\n",
    "\n",
    "for triplet in triplets:\n",
    "    print(triplet)\n"
   ]
  },
  {
   "cell_type": "markdown",
   "metadata": {},
   "source": [
    " # 4. Create a Time class and initialize it with hours and minutes.\n",
    "Create a method addTime which should take two Time objects and add them."
   ]
  },
  {
   "cell_type": "code",
   "execution_count": 15,
   "metadata": {},
   "outputs": [
    {
     "name": "stdout",
     "output_type": "stream",
     "text": [
      "Time 1: 2 hours 50 minutes\n",
      "Time 2: 1 hours 20 minutes\n",
      "Total time: 4 hours 10 minutes\n",
      "04:10\n",
      "Total minutes: 250\n"
     ]
    }
   ],
   "source": [
    "class Time:\n",
    "    \n",
    "    def __init__(self, h, mins):\n",
    "        self.h = h\n",
    "        self.mins = mins\n",
    "    \n",
    "    def addTime(self, otherTime):\n",
    "        total_minutes = self.mins + otherTime.mins\n",
    "        additional_hours, remaining_minutes = divmod(total_minutes, 60)\n",
    "        total_hours = self.h + otherTime.h + additional_hours\n",
    "        return Time(total_hours, remaining_minutes)\n",
    "    \n",
    "    def displayTime(self):\n",
    "        print(f\"{self.h:02d}:{self.mins:02d}\")\n",
    "\n",
    "    def displayMinute(self):\n",
    "        totalMinutes = self.h * 60 + self.mins\n",
    "        print(f\"Total minutes: {totalMinutes}\")\n",
    "    \n",
    "t1 = Time(2, 50)\n",
    "t2 = Time(1, 20)\n",
    "\n",
    "time3 = t1.addTime(t2)\n",
    "\n",
    "print(\"Time 1:\", t1.h, \"hours\", t1.mins, \"minutes\")\n",
    "print(\"Time 2:\", t2.h, \"hours\", t2.mins, \"minutes\")\n",
    "print(\"Total time:\", time3.h, \"hours\", time3.mins, \"minutes\")\n",
    "        \n",
    "time3.displayTime()\n",
    "time3.displayMinute()\n"
   ]
  },
  {
   "cell_type": "markdown",
   "metadata": {},
   "source": [
    " # 5. "
   ]
  },
  {
   "cell_type": "code",
   "execution_count": 35,
   "metadata": {},
   "outputs": [
    {
     "name": "stdout",
     "output_type": "stream",
     "text": [
      "Age is not valid, setting age to 0\n",
      "invalid age\n",
      "You are young\n",
      "You are young\n",
      "You are a teenager\n",
      "You are a teenager\n",
      "You are old\n",
      "You are old\n",
      "42\n"
     ]
    }
   ],
   "source": [
    "class Person:\n",
    "    def __init__(self, age):\n",
    "        if age < 0:\n",
    "            self.age = 0\n",
    "            print(\"Age is not valid, setting age to 0\")\n",
    "        else:\n",
    "            self.age = age\n",
    "\n",
    "    def yearPasses(self, years):\n",
    "        self.age += years\n",
    "        print(self.age)\n",
    "\n",
    "    def amIOld(self):\n",
    "        if self.age >= 1 and self.age < 13:\n",
    "            print(\"You are young\")\n",
    "        elif self.age >= 13 and self.age < 20:\n",
    "            print(\"You are a teenager\")\n",
    "        elif self.age >= 20:\n",
    "            print(\"You are old\")\n",
    "        else:\n",
    "            print(\"invalid age\")\n",
    "            \n",
    "person1 = Person(-1)\n",
    "person1.amIOld()\n",
    "person2 = Person(4)\n",
    "person2.amIOld()\n",
    "person3 = Person(10)\n",
    "person3.amIOld()\n",
    "person4 = Person(16)\n",
    "person4.amIOld()\n",
    "person5 = Person(18)\n",
    "person5.amIOld()\n",
    "person6 = Person(64)\n",
    "person6.amIOld()\n",
    "person7 = Person(38)\n",
    "person7.amIOld()\n",
    "\n",
    "person7.yearPasses(4)\n",
    "\n",
    "\n"
   ]
  },
  {
   "cell_type": "code",
   "execution_count": null,
   "metadata": {},
   "outputs": [],
   "source": []
  },
  {
   "cell_type": "code",
   "execution_count": null,
   "metadata": {},
   "outputs": [],
   "source": []
  }
 ],
 "metadata": {
  "kernelspec": {
   "display_name": "Python 3",
   "language": "python",
   "name": "python3"
  },
  "language_info": {
   "codemirror_mode": {
    "name": "ipython",
    "version": 3
   },
   "file_extension": ".py",
   "mimetype": "text/x-python",
   "name": "python",
   "nbconvert_exporter": "python",
   "pygments_lexer": "ipython3",
   "version": "3.7.6"
  }
 },
 "nbformat": 4,
 "nbformat_minor": 4
}
